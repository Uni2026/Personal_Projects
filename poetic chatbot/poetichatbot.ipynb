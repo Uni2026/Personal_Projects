{
  "nbformat": 4,
  "nbformat_minor": 0,
  "metadata": {
    "colab": {
      "provenance": []
    },
    "kernelspec": {
      "name": "python3",
      "display_name": "Python 3"
    },
    "language_info": {
      "name": "python"
    }
  },
  "cells": [
    {
      "cell_type": "code",
      "execution_count": null,
      "metadata": {
        "colab": {
          "base_uri": "https://localhost:8080/"
        },
        "id": "m64NNoE1yXeu",
        "outputId": "07de98e2-31f6-41fd-f776-dc1c4d4eea06"
      },
      "outputs": [
        {
          "output_type": "stream",
          "name": "stdout",
          "text": [
            "\u001b[2K     \u001b[90m━━━━━━━━━━━━━━━━━━━━━━━━━━━━━━━━━━━━━━━━\u001b[0m \u001b[32m42.4/42.4 kB\u001b[0m \u001b[31m2.3 MB/s\u001b[0m eta \u001b[36m0:00:00\u001b[0m\n",
            "\u001b[2K   \u001b[90m━━━━━━━━━━━━━━━━━━━━━━━━━━━━━━━━━━━━━━━━\u001b[0m \u001b[32m217.7/217.7 kB\u001b[0m \u001b[31m5.7 MB/s\u001b[0m eta \u001b[36m0:00:00\u001b[0m\n",
            "\u001b[?25h"
          ]
        }
      ],
      "source": [
        "# Install the Google Generative AI library\n",
        "!pip install -q -U google-genai"
      ]
    },
    {
      "cell_type": "code",
      "source": [
        "# Import necessary libraries\n",
        "import time\n",
        "from google import genai\n",
        "from google.colab import userdata"
      ],
      "metadata": {
        "id": "0eeu4P-KikaX"
      },
      "execution_count": null,
      "outputs": []
    },
    {
      "cell_type": "code",
      "source": [
        "# Get the API key from Colab user data\n",
        "key =userdata.get('GEMINI_API_KEY')"
      ],
      "metadata": {
        "id": "1yzhbdJeuZIP"
      },
      "execution_count": null,
      "outputs": []
    },
    {
      "cell_type": "markdown",
      "source": [
        "Building your Gemini Chatbot"
      ],
      "metadata": {
        "id": "7w7zuL6fvCPy"
      }
    },
    {
      "cell_type": "code",
      "source": [
        "# Define a function to simulate streaming the chatbot's response\n",
        "def stream(text):\n",
        "  print('Bot: ', end='') # Add a space after 'Bot:' and keep end=''\n",
        "  words = text.split()\n",
        "  for word in words:\n",
        "    print(word, end=' ', flush=True) # Print each word with a space and flush the output\n",
        "    time.sleep(0.1) # Pause for a short time\n",
        "  print() # Add a single newline at the very end after all words are printed"
      ],
      "metadata": {
        "id": "OBKWCfTyu0QB"
      },
      "execution_count": null,
      "outputs": []
    },
    {
      "cell_type": "code",
      "source": [
        "text = 'We are building a chatbot'\n",
        "stream(text)"
      ],
      "metadata": {
        "colab": {
          "base_uri": "https://localhost:8080/"
        },
        "id": "bxcAIj7FxCHJ",
        "outputId": "2b05ebe1-b684-4314-f42c-ded9d611aa98"
      },
      "execution_count": null,
      "outputs": [
        {
          "output_type": "stream",
          "name": "stdout",
          "text": [
            "Bot: We are building a chatbot \n"
          ]
        }
      ]
    },
    {
      "cell_type": "code",
      "source": [
        "# Initialize the Gemini client and create a chat instance\n",
        "try:\n",
        "  client = genai.Client(api_key=key)\n",
        "  chat = client.chats.create(model=\"gemini-2.0-flash\") # Create a chat instance with the specified model\n",
        "except KeyError:\n",
        "  print(f'Error with gemini api key.\\n error message:\\n{KeyError}')\n",
        "  # Removed chat creation from here"
      ],
      "metadata": {
        "id": "zGDW6CDpyXdk"
      },
      "execution_count": null,
      "outputs": []
    },
    {
      "cell_type": "code",
      "source": [
        "# Define a function to interact with the Gemini model\n",
        "def ask_gemini(user_input):\n",
        "  try:\n",
        "    # Craft the prompt to guide the model's response\n",
        "    prompt = f\"Transform the following user input into a short, beautiful, poetic verse, focusing on vivid imagery and a reflective tone. Provide ONLY the poetic transformation and no other information. Here is the user's input: {user_input}\"\n",
        "    response = chat.send_message(prompt) # Send the prompt to the model\n",
        "    return response.text # Return the model's response text\n",
        "  except Exception as e:\n",
        "    return f\"Oops, something went wrong: {e}\" # Return an error message if something goes wrong"
      ],
      "metadata": {
        "id": "VxgzL1Qq11HZ"
      },
      "execution_count": null,
      "outputs": []
    },
    {
      "cell_type": "code",
      "source": [
        "# Main chat loop\n",
        "print(\"Welcome to your Gemini Chatbot! Type ' quit' to exit.\")\n",
        "while True:\n",
        "    user_input = input(\"You: \") # Get user input\n",
        "    if user_input.lower() == 'quit': # Check if the user wants to quit\n",
        "      print(\"Bot: Bye for now!\")\n",
        "      break # Exit the loop\n",
        "    response = ask_gemini(user_input) # Get the poetic response from Gemini\n",
        "    stream(response) # Stream the response to the user"
      ],
      "metadata": {
        "colab": {
          "base_uri": "https://localhost:8080/"
        },
        "id": "AIRuLSCjretE",
        "outputId": "1a204f2a-5986-474d-bf2e-c1ae0866fef6"
      },
      "execution_count": null,
      "outputs": [
        {
          "output_type": "stream",
          "name": "stdout",
          "text": [
            "Welcome to your Gemini Chatbot! Type ' quit' to exit.\n",
            "You: i miss my sister \n",
            "Bot: A sister's shade, in memory's gleam, A whispered name, a fading dream. Sun-kissed laughter, now just sighs, Lost in the amber of my eyes. \n",
            "You: i love the night sky\n",
            "Bot: Velvet canvas, diamond dust, A silent story, built on trust. The moon, a pearl, in inky seas, Whispering ancient mysteries. \n",
            "You: when will you be back \n",
            "Bot: Across the miles, a silent plea, When will your ship return to me? A horizon watched with longing eyes, Beneath the vast and endless skies. \n",
            "You: quit\n",
            "Bot: Bye for now!\n"
          ]
        }
      ]
    },
    {
      "cell_type": "markdown",
      "metadata": {
        "id": "135bdc5d"
      },
      "source": [
        "## Summary:\n",
        "\n",
        "### Data Analysis Key Findings\n",
        "\n",
        "*   The core task involved modifying the prompt within the `ask_gemini` function to transform user input into poetic verses.\n",
        "*   The initial modification successfully enabled the chatbot to generate poetic output.\n",
        "*   Further refinement of the prompt, specifying \"short, beautiful, poetic verse, focusing on vivid imagery and a reflective tone,\" led to the generation of shorter verses with a more desired style.\n",
        "\n"
      ]
    }
  ]
}